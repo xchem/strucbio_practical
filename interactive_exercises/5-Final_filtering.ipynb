{
 "cells": [
  {
   "cell_type": "markdown",
   "metadata": {},
   "source": [
    "# Final filtering\n",
    "----\n",
    "<font size=\"3\"> In a normal in silico drug-design or lead-optimisation experiment, the next would be to do a mass structure-based calculation to generate more thorough structure-based predictions for the ligands we have enumerated. Since we have limited time and resource, it is unrealistic for us to do this on the thousands of structures we still have left from our elaboration and merger molecules. \n",
    "    \n",
    "A lot of the structures are probably still quite similar to each other after filtering, so we will select a diverse subset of them in order to filter them down more. \n",
    "    \n",
    "</font>"
   ]
  },
  {
   "cell_type": "markdown",
   "metadata": {},
   "source": [
    "## Exercise\n",
    "----\n",
    "<font size=\"3\">Using the diversity picking example shown in the rdkit cookbook as an example (https://www.rdkit.org/docs/GettingStartedInPython.html#picking-diverse-molecules-using-fingerprints) select a set of 100 diverse molecules from the combined sdf file of elaborations and mergers from the last exercise. **TIP**: You can visualise multiple molecules in your diverse subset using the function `rdkit.Chem.Draw.MolsToGridImage(mols)`.</font>\n",
    "\n",
    "\n"
   ]
  },
  {
   "cell_type": "code",
   "execution_count": 1,
   "metadata": {},
   "outputs": [],
   "source": [
    "# write your code here\n",
    "\n"
   ]
  },
  {
   "cell_type": "markdown",
   "metadata": {},
   "source": [
    "## Exercise (time permitting)\n",
    "----\n",
    "Using your knowledge from the docking practical, dock and score your 100 molecules. Visualise them in pymol and select your best 10 molecules, and maybe even your favourite. \n",
    "\n"
   ]
  }
 ],
 "metadata": {
  "kernelspec": {
   "display_name": "Python 3 (ipykernel)",
   "language": "python",
   "name": "python3"
  },
  "language_info": {
   "codemirror_mode": {
    "name": "ipython",
    "version": 3
   },
   "file_extension": ".py",
   "mimetype": "text/x-python",
   "name": "python",
   "nbconvert_exporter": "python",
   "pygments_lexer": "ipython3",
   "version": "3.8.12"
  }
 },
 "nbformat": 4,
 "nbformat_minor": 4
}