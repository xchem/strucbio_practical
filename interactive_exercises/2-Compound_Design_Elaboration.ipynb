{
 "cells": [
  {
   "cell_type": "markdown",
   "metadata": {},
   "source": [
    "# Compound design: elaborating existing hits with the graph network\n",
    "----"
   ]
  },
  {
   "cell_type": "markdown",
   "metadata": {},
   "source": [
    "<font size=\"3\">This part of the practical will involve downloading data about molecules in the aminopyradine site from fragalysis using the python API (https://github.com/xchem/fragalysis-api) and using the API to enumerate the graph network in fragalysis for new molecules that are elaborations on the initial hits.\n",
    "\n",
    "Before we use the python API to navigate the graph network, it is useful to explore how this is incorporated in the fragalysis webpage.</font>\n",
    "\n"
   ]
  },
  {
   "cell_type": "markdown",
   "metadata": {},
   "source": [
    "## Part 1: Explore vectors in Fragalysis\n",
    "----\n",
    "<font size=\"3\">Navigate to the fragalysis page for Mpro: https://fragalysis.diamond.ac.uk/viewer/react/preview/target/Mpro and turn on the vectors for the first molecule in the 'Aminopyridine-like' site. (X0107A - you can also use the search bar in the hit navigator headaer).\n",
    "    \n",
    "Cick on the 'L' button to display the ligand. Click on the 'V' button in the molecule card to turn on the molecules vectors. You should see a series of 3D shapes overlayed on top of the ligand mmolecule in the central 3D viewer.</font>\n",
    "    \n",
    "### Explanation:\n",
    "----\n",
    "\n",
    "<font size=\"3\">\n",
    "    \n",
    "In order to assess possible modes of expansion of fragment hits we have utilised the fragment network, described by Astex Pharmaceuticals (https://doi.org/10.1021/acs.jmedchem.7b00809). It is used to identify at which points a fragment hit can be extended or modified to generate a new molecule. \n",
    "    \n",
    "The network is built from a set of molecules by recursive fragmentation based on their ring systems and the substituents of those rings. That network forms a directed acyclic graph that can be traversed to identify similar molecules based on sharing common fragments. \n",
    "    \n",
    "The relationships between different molecules are represented by edges on the graph, with the nodes describing the molecules. The transformations along the edges of the graph are described by SMARTS reaction patterns, and can represent changes to a molecule by either additions, substitutions or replacement of linkers.\n",
    "    \n",
    "In Fragalysis, the elaborations available for a molecule are represented in the context of the molecule in the central 3D viewer. \n",
    "    \n",
    "<img src=\"../img/vectors.png\">\n",
    "    \n",
    "**Replacements and linkers are represented as cylinders, indicating the start and end point for the linker or replacement at the beginning and the end of the cylinder. Directions for extension of a molecule are represented by arrows. Green shapes indicate more than 10 elaborations are available, yellow indicate between 1 and 10, and red indicates a known elaboration vector, but with no available molecules in the graph network.**\n",
    "</font>\n",
    "\n",
    "----\n",
    "\n",
    "If you click on any of the green or yellow vectors, the molecules available in the graph-network will be shown on the right-hand side of the page. \n",
    "\n",
    "### Exercise\n",
    "---\n",
    "\n",
    "<font size=\"3\">\n",
    "    \n",
    "Which 3 molecules are available for the elaboration along the vector of the methyl ring group for X0107A? Copy and paste the smiles strings into the next cell. \n",
    "\n",
    "**Hint**: You can select the available elaborations by clicking on them on the right-hand side. You can then download a csv of the selections with the 'Download CSV' button in the 'Summary Info' header bar\n",
    "    \n",
    "\n",
    "</font>\n",
    "    "
   ]
  },
  {
   "cell_type": "code",
   "execution_count": null,
   "metadata": {},
   "outputs": [],
   "source": [
    "# Insert your answer here"
   ]
  },
  {
   "cell_type": "markdown",
   "metadata": {},
   "source": [
    "## Part 2: Using the Python API to explore molecules available in the graph network\n",
    "----"
   ]
  },
  {
   "cell_type": "markdown",
   "metadata": {},
   "source": [
    "<font size=\"3\">This part of the practical will show how we can explore the graph network as above, but programatically.\n",
    "\n",
    "In the cell below, we will use the fragalysis API to get a pandas dataframe of all of the molecules in the amino pyradine site. Run the cell to generate the output. If you want to play with the data, you can display the top part of the dataframe with:\n",
    "</font>\n",
    "\n",
    "```python \n",
    "display(aminopyradine_site_mols.head())\n",
    "```"
   ]
  },
  {
   "cell_type": "code",
   "execution_count": null,
   "metadata": {},
   "outputs": [],
   "source": [
    "from fragalysis_api import GetMolgroupData\n",
    "\n",
    "search = GetMolgroupData()\n",
    "aminopyradine_site_mols = search.get_site_mol_table(target='Mpro', site_name='A1 - Aminopyridine-like')\n",
    "\n",
    "# uncomment to display\n",
    "# display(aminopyradine_site_mols.head()) \n"
   ]
  },
  {
   "cell_type": "markdown",
   "metadata": {},
   "source": [
    "\n",
    "<font size=\"3\">\n",
    "We will now use the information about the molecules in the aminopyradine-like site to enumerate the graph-network from the fragalysis API.  \n",
    "    \n",
    "<br>\n",
    "    \n",
    "We can search the graph-network for enumerations by using the smiles string of the molecule we are interested in elaborating. For example:\n",
    "\n",
    "```python\n",
    "\n",
    "from fragalysis_api.xcanalyser.graphcreator import xcgraphcreator\n",
    "\n",
    "smiles = 'CCCC'\n",
    "graph_search = xcgraphcreator(smiles)\n",
    "```\n",
    "\n",
    "This will return a pandas dataframe containing information about the results from the graph-network enumeration. \n",
    "\n",
    "**Column descriptions:**\n",
    "- ``type``: the type of operation used to generate the elaborated molecules\n",
    "- ``insert_smiles``: the smiles string of the original molecule with ``[Xe]`` in the position where the change is made\n",
    "- ``new_smiles``: the complete smiles string of the new elaborated molecule\n",
    "- ``insertion``: a smarts-formated code describing what to insert into ``insert_smiles`` to create the full smiles of the new molecule\n",
    "\n",
    "### Exercise\n",
    "----\n",
    "1. Using the information from the dataframe ``aminopyradine_site_mols`` enumerate the graph-network for each molecule to find all possible enumerations\n",
    "2. Write out the following files:\n",
    "    - an sdf file for all of the molecules from the aminopyradine site, with the molecule appropriatley named by its fagalysis label (``protein_code``)\n",
    "    - a csv file for all of the enumerations, with one column (``initial_hit``) containing the fragalysis label for the initial hit that the enumeration came from, and a second column (``elaboration_smiles``) containing the smiles string for the elaboration\n",
    "    \n",
    "Write the code to generate your output files in the cell below. **Don't forget to download this jupyter notebook, and the files you generate!**\n",
    "    \n",
    "\n",
    "\n",
    "**Hints & tips**:\n",
    "- You can enumerate through a pandas dataframe with ``<dataframe>.iterrows()``. Documentation: https://pandas.pydata.org/pandas-docs/stable/reference/api/pandas.DataFrame.iterrows.html\n",
    "- You can use rdkit to create molecules from a mol block (i.e. ``sdf_info`` from ``aminopyradine_site_mols``). Documentation: https://www.rdkit.org/docs/source/rdkit.Chem.rdmolfiles.html#rdkit.Chem.rdmolfiles.MolFromMol2Block\n",
    "- You can use rdkit to write out sdf files from a set of molecules. Example:https://www.rdkit.org/docs/GettingStartedInPython.html#writing-sets-of-molecules\n",
    "- You can write out a csv file directly from a pandas dataframe. Documentation: https://pandas.pydata.org/pandas-docs/stable/reference/api/pandas.DataFrame.to_csv.html\n",
    "- pandas and rdkit are both available in this environment\n",
    "    \n",
    "</font>"
   ]
  },
  {
   "cell_type": "code",
   "execution_count": 1,
   "metadata": {},
   "outputs": [],
   "source": [
    "# write your code here"
   ]
  },
  {
   "cell_type": "code",
   "execution_count": null,
   "metadata": {},
   "outputs": [],
   "source": []
  }
 ],
 "metadata": {
  "kernelspec": {
   "display_name": "Python 3",
   "language": "python",
   "name": "python3"
  },
  "language_info": {
   "codemirror_mode": {
    "name": "ipython",
    "version": 3
   },
   "file_extension": ".py",
   "mimetype": "text/x-python",
   "name": "python",
   "nbconvert_exporter": "python",
   "pygments_lexer": "ipython3",
   "version": "3.7.10"
  }
 },
 "nbformat": 4,
 "nbformat_minor": 4
}
