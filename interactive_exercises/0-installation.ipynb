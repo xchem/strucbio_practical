{
 "cells": [
  {
   "cell_type": "markdown",
   "id": "cc240100",
   "metadata": {},
   "source": [
    "## Instructions\n",
    "<br>\n",
    "In this session we will use a set of jupyter notebooks.\n",
    "You have three options to run these exercises:\n",
    "<br>\n",
    "\n",
    "1. Local installation. Probably the most stable option and the easiest way to keep your results.\n",
    "2. Online: Binder. Easier option, but it may crash at any point, requiring reboot.\n",
    "3. Online Colab. Requires package installation before execution."
   ]
  },
  {
   "cell_type": "markdown",
   "id": "e502e980",
   "metadata": {},
   "source": [
    "### 1. Local installation\n",
    "\n",
    "\n",
    "If not installed\n",
    "\n",
    "1. Clone the repository <br>\n",
    "``\n",
    "wget https://github.com/xchem/strucbio_practical\n",
    "``\n",
    "2. Install the environment <br>\n",
    "``\n",
    "cd strucbio_practical\n",
    "conda env create -f environment.yml\n",
    "``\n",
    "4. Activate the environment <br>\n",
    "``\n",
    "conda activate frag-api\n",
    "``\n",
    "5. Install jupyter <br>\n",
    "``\n",
    "conda install -c conda-forge jupyter\n",
    "``\n",
    "6. Launch the notebooks <br>\n",
    "``\n",
    "jupyter-notebook\n",
    "``\n",
    "\n",
    "Otherwise, just update the repository <br>\n",
    "``\n",
    "cd strucbio_practical\n",
    "git pull\n",
    "``"
   ]
  },
  {
   "cell_type": "markdown",
   "id": "48c97b4b",
   "metadata": {},
   "source": [
    "### 2. Online: Binder\n",
    "\n",
    "Just click on https://mybinder.org/v2/gh/xchem/strucbio_practical/master\n",
    "<br>\n",
    "Don't forget to save local copies frequently"
   ]
  },
  {
   "cell_type": "markdown",
   "id": "8f64eb89",
   "metadata": {},
   "source": [
    "### 3. Online: Colab\n",
    "\n",
    "1. Click on the Colab url for each notebook:\n",
    "    - https://colab.research.google.com/github/xchem/strucbio_practical/blob/master/interactive_exercises/1-Visualisation.ipynb\n",
    "    - https://colab.research.google.com/github/xchem/strucbio_practical/blob/master/interactive_exercises/2-Compound_Design_Elaboration.ipynb\n",
    "    - https://colab.research.google.com/github/xchem/strucbio_practical/blob/master/interactive_exercises/3-Compound_Design_Mergers.ipynb\n",
    "    - https://colab.research.google.com/github/xchem/strucbio_practical/blob/master/interactive_exercises/4-Generating_3D_structures_ligand-based.ipynb\n",
    "    - https://colab.research.google.com/github/xchem/strucbio_practical/blob/master/interactive_exercises/5-Final_filtering.ipynb\n",
    "    - https://colab.research.google.com/github/xchem/strucbio_practical/blob/master/interactive_exercises/6-Compound_Robo_Synthesis_Prep.ipynb\n",
    "<br><br>\n",
    "2. Right before executing python code in any notebook, you need to install the required packages. Just create a code cell and paste and execute the following:\n",
    "\n",
    "```python \n",
    "!pip install -q condacolab\n",
    "import condacolab\n",
    "condacolab.install() #ignore message about session crashing, this is normal\n",
    "```\n",
    "\n",
    "And then another cell with the following:\n",
    "\n",
    "```python \n",
    "import condacolab\n",
    "condacolab.check()\n",
    "!wget -c https://raw.githubusercontent.com/xchem/strucbio_practical/master/environment.yml\n",
    "!conda env update --file environment.yml --name base\n",
    "import sys\n",
    "sys.path.append('/content/src/fragalysis-api')\n",
    "sys.path.append('/content/src/pandda-gemmi')\n",
    "```\n",
    "\n",
    "You should be able to run all the other cells\n",
    "\n",
    "\n"
   ]
  }
 ],
 "metadata": {
  "kernelspec": {
   "display_name": "Python 3 (ipykernel)",
   "language": "python",
   "name": "python3"
  },
  "language_info": {
   "codemirror_mode": {
    "name": "ipython",
    "version": 3
   },
   "file_extension": ".py",
   "mimetype": "text/x-python",
   "name": "python",
   "nbconvert_exporter": "python",
   "pygments_lexer": "ipython3",
   "version": "3.8.12"
  }
 },
 "nbformat": 4,
 "nbformat_minor": 5
}
