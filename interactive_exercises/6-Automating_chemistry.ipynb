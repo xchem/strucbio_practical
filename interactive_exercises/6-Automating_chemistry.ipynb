{
 "cells": [
  {
   "cell_type": "markdown",
   "metadata": {},
   "source": [
    "# Compound synthesis, design and robotic chemistry \n",
    "<font size=\"3\"> In this practical you will explore the synthesis of the follow up compounds from fragments to druglike hits. You will use an amidation reaction to design compound and generate code to execute the synthesis on an OpenTrons system.\n",
    "This exercise will give you an idea of some design and implementation considerations for automating chemistry for drug-discovery. \n",
    "</font>\n",
    "----"
   ]
  },
  {
   "cell_type": "markdown",
   "metadata": {},
   "source": [
    "## Part 1: Compound design and synthesis\n",
    "----\n",
    "<blockquote cite=\"https://covid.postera.ai/covid\">\n",
    "The COVID Moonshot is an ambitious crowdsourced initiative to accelerate the development of a COVID antiviral. We work in the open with no intellectual property constraints. This way, any scientist can view submitted drug designs and experimental data to inspire new design ideas. We use our cutting-edge machine learning tools and Folding@home's crowdsourced supercomputer to determine which drug designs to send to our partners to make and test in the lab. With each drug design tested, we get closer to our goal.    \n",
    "</blockquote>\n",
    "\n",
    "### Viewing structural information\n",
    "<font size=\"3\">\n",
    "You will have a look at some structures collected for compounds submitted to the Moonshot project. \n",
    "    \n",
    "Navigate to Fragalysis: https://fragalysis.diamond.ac.uk/viewer/react/preview/target/Mpro and find compound TRY-UNI-714a760b-6. Select the \"Aminopyridine-like\" tag and use the search box (Fig. 1). \n",
    "<br>    \n",
    "Optional -> You will notice that your view will be different to the wire frame shown in Fig 1. Experiment with the display control to get other types of views. \n",
    "    \n",
    "<br>\n",
    "    \n",
    "<img src=\"../img/SABS-2021-step1.png\">\n",
    "<strong><em>Fig. 1 - Finding the compound in Fragalysis</em></strong>\n",
    "    \n",
    "### Amidation reactions\n",
    "<br>\n",
    "<font size=\"3\">\n",
    "Amidation reactions for the formation of amide functional groups, are extremely useful reactions for drug-discovery. The rate of synthetic success is very high coupled with relatively easy and robust reaction conditions. The amidation reaction is the reaction between a carboxylic acid and a primary/secondary amine (Fig. 2) to form an amide. To get an idea of how different reactions are used for drug-discovery, you can see more examples of useful reactions at: https://doi.org/10.1039/C5SC03115J \n",
    "</font>    \n",
    "<br>\n",
    "\n",
    "    \n",
    "<img src=\"../img/amidation-reaction.png\">\n",
    "<strong><em>Fig. 2: (a) Example of primary amine and (b) secondary amine amidation reactions</em></strong>\n",
    "\n",
    "### Disconnections and identifying amides\n",
    "<br>\n",
    "<font size=\"3\">\n",
    "    \n",
    "Looking at TRY-UNI-714a760b-6, you will notice the presence of an amide bond, making this a good candidate for synthesising via an amidation reaction. See how the amide bond has been \"broken\" or \"disconnected\" in Fig. 3.   \n",
    "\n",
    "<br>\n",
    "<img src=\"../img/TRY-UNI-example-step-1-disc.jpg\">\n",
    "<strong><em>Fig. 3: Possible approach to synthesising TRY-UNI-714</em></strong>\n",
    "    \n",
    "<br>\n",
    "<img src=\"../img/retrosynthesis-example.png\">\n",
    "<strong><em>Fig. 4: Retrosynthesis strategy to get reaction and starting materials for TRY-UNI-714</em></strong>\n",
    "\n",
    "\n",
    "</font>\n"
   ]
  },
  {
   "cell_type": "markdown",
   "metadata": {},
   "source": [
    "## Part 2: Design your own compound\n",
    "<br>\n",
    "<font size=\"3\">\n",
    "Assume that your current inventory only allows for amidation types of chemistry. In Fragalysis, have a look at some of the other \"aminopyridine-like\" compounds. Identify one that looks interesting to synthesise using an amidation reaction. You can also try adding extra groups or vectors to enumerate the TRY-UNI-714 example.\n",
    "    \n",
    "Using a disconnection or retrosynthesis strategy for an amidation reaction, you will need to get the:\n",
    "- Names of the amine and carboxylic acid starting materials \n",
    "- SMILES of the target product\n",
    "\n",
    "- For converting structures to SMILES, use -> http://www.cheminfo.org/flavor/malaria/Utilities/SMILES_generator___checker/index.html\n",
    "- For finding names associated with SMILES, you can use PubChem -> https://pubchem.ncbi.nlm.nih.gov/\n",
    "</font>"
   ]
  },
  {
   "cell_type": "markdown",
   "metadata": {},
   "source": [
    "<font size=\"3\">\n",
    "OK, so we've an idea of what our starting materials look like. Let's convert the starting material names into SMILES, a machine-readable format. SMILES are extremely useful for machines but chemist's feel more comfortable using names and especially images. In the next section, you will use query the NCI Cactus Resolver tool -> https://cactus.nci.nih.gov to convert the chemical names of our starting materials into SMILES which you'll then use to generate some images. The SMILES will be stored as a list in 'smiles'  \n",
    "</font>"
   ]
  },
  {
   "cell_type": "code",
   "execution_count": 65,
   "metadata": {},
   "outputs": [],
   "source": [
    "from rdkit import Chem\n",
    "# Substitute your starting material names in the python list below\n",
    "starting_material_names = [\"4-methylpyridin-3-amine\",\"(3-chlorophenyl)acetic acid\"]\n",
    "\n",
    "# Substitute your product SMILES in the string below\n",
    "product_smiles = \"O=C(Nc1cnccc1C)Cc1cccc(Cl)c1\""
   ]
  },
  {
   "cell_type": "markdown",
   "metadata": {},
   "source": [
    "<font size=\"3\">\n",
    "    Test your product SMILES and see what it looks like by running the cell below.\n",
    "<font>"
   ]
  },
  {
   "cell_type": "code",
   "execution_count": 66,
   "metadata": {},
   "outputs": [
    {
     "data": {
      "image/png": "[encoded data removed]",
      "text/plain": [
       "<rdkit.Chem.rdchem.Mol at 0x7ff454fbf460>"
      ]
     },
     "execution_count": 66,
     "metadata": {},
     "output_type": "execute_result"
    }
   ],
   "source": [
    "Chem.MolFromSmiles(product_smiles)"
   ]
  },
  {
   "cell_type": "markdown",
   "metadata": {},
   "source": [
    "<font size=\"3\">\n",
    "The NIH has a neat service, Cactus, that can convert chemical names into SMILES. The code block below has a function -> CIRconvert, that makes use of the Cactus API to convert chemical names into SMILES. Can you think of other ways to generate SMILES from a name/structure? \n",
    "<font>"
   ]
  },
  {
   "cell_type": "code",
   "execution_count": 67,
   "metadata": {},
   "outputs": [],
   "source": [
    "from urllib.request import urlopen\n",
    "from urllib.parse import quote\n",
    "\n",
    "def CIRconvert(name):\n",
    "    try:\n",
    "        name_to_convert = quote(name)\n",
    "        url= 'https://cactus.nci.nih.gov/chemical/structure/' + name_to_convert + '/smiles'\n",
    "        ans = urlopen(url).read().decode('utf8')\n",
    "        smiles = ans.split(' ')[0]\n",
    "        return smiles\n",
    "    except:\n",
    "        return 'Did not work'"
   ]
  },
  {
   "cell_type": "markdown",
   "metadata": {},
   "source": [
    "<font size=\"3\">\n",
    "In the next code block, you will use the CIRconver function to convert your starting materials into SMILES\n",
    "<font>"
   ]
  },
  {
   "cell_type": "code",
   "execution_count": 68,
   "metadata": {},
   "outputs": [],
   "source": [
    "identifiers  = starting_material_names\n",
    "\n",
    "reactant_smiles = []\n",
    "for ids in identifiers :\n",
    "    reactant_smiles.append(CIRconvert(ids))"
   ]
  },
  {
   "cell_type": "markdown",
   "metadata": {},
   "source": [
    "<font size=\"3\">\n",
    "You should see two SMILES in a list after running the next code block.\n",
    "<font>"
   ]
  },
  {
   "cell_type": "code",
   "execution_count": 69,
   "metadata": {},
   "outputs": [
    {
     "data": {
      "text/plain": [
       "['Cc1ccncc1N', 'OC(=O)Cc1cccc(Cl)c1']"
      ]
     },
     "execution_count": 69,
     "metadata": {},
     "output_type": "execute_result"
    }
   ],
   "source": [
    "reactant_smiles"
   ]
  },
  {
   "cell_type": "markdown",
   "metadata": {},
   "source": [
    "<font size=\"3\">\n",
    "Now that you've got some SMILES, you can generate some rdkit mol objects and draw some images. These are the compounds that you will use in the OpenTrons robotic synthesis procedure.    \n",
    "</font>"
   ]
  },
  {
   "cell_type": "code",
   "execution_count": 70,
   "metadata": {},
   "outputs": [],
   "source": [
    "from rdkit import Chem\n",
    "mols = [Chem.MolFromSmiles(smi) for smi in reactant_smiles]"
   ]
  },
  {
   "cell_type": "code",
   "execution_count": 71,
   "metadata": {},
   "outputs": [
    {
     "data": {
      "image/png": "[encoded data removed]",
      "text/plain": [
       "<IPython.core.display.Image object>"
      ]
     },
     "execution_count": 71,
     "metadata": {},
     "output_type": "execute_result"
    }
   ],
   "source": [
    "legends = [name for name in starting_material_names]\n",
    "Chem.Draw.MolsToGridImage(mols, molsPerRow=4, legends=legends)"
   ]
  },
  {
   "cell_type": "markdown",
   "metadata": {},
   "source": [
    "## Part 3: Using encoded recipes\n",
    "\n",
    "<font size=\"3\">\n",
    "Now that we have our starting materials in a SMILES, let's have a look at using an encoded recipe format. Traionally, chemists would document recipes in a paragraph like format. Shown below is the human readable form of an amidation reaction perfromed on an OpenTrons robot. \n",
    "\n",
    "<blockquote>\n",
    "Iteration 1.0 - Imidazole 1((4-(1H-imidazole-1-carbonyl)piperazin-1-yl)(furan-2-yl)methanone) was dissolved in MeCN (500 mM) and dispensed (0.06 mmol, 120uL) in 58 wells of two 96-well reaction racks (StarLab 2mL). Iodomethane (15 eq, 56uL) was added in each well and reaction rack was covered with a plastic mat. After 24 hours the mixture was concentrated (SPE-Dry, heated nitrogen 96-head dispenser) and K2CO3 (>1.5 eq, >12.4 mg) was added. 58 amines in DMF (1.1 eq, 0.067 mmol, 132 uL from a 500mM stock) were dispensed in each of the mixture containing wells followed by the addition of a further volume of DMF (132 uL). The mixture was concentrated after 24 hours (SPE-dry) and partitioned in DCM (300uL) and an aqueous solution (3M HCl, 300uL). The organic extracts were transferred (250uL) to a 96-well plate (Starlab, 300uL) and the DCM removed overnight. DMSO was added (189uL, 250 mM) to dissolve the crude reaction mixtures and make a stock plate used to prepare one QC plate (LCMS) and two screening plates (in dmso and ethylene glycol).\n",
    "</blockquote>\n",
    "\n",
    "To automate reactions, an encoded recipe format that is both human and machine readable is what we are after. Both JSON and Python dictionary formats do a very good job of assigning keys to values that make writing a machine and human readable format possible. Shown below is an example of the encoded version of the amidation recipe. Notice the different key-value pairs with \"actions\" containing the actual actions or instructions for the synthesis.  \n",
    "</font>"
   ]
  },
  {
   "cell_type": "code",
   "execution_count": 72,
   "metadata": {},
   "outputs": [],
   "source": [
    "encoded_recipes  = {\n",
    "    \"Amidation\": {\n",
    "        \"reactionSMARTS\": \"[#6:1](=[#8:2])-[#8].[#7;H3,H2,H1:3]>>[#6:1](=[#8:2])-[#7:3]\",\n",
    "        \"recipes\": {\n",
    "            \"Standard\": {\n",
    "                \"reference\": None,\n",
    "                \"actions\": [\n",
    "                    {\n",
    "                        \"name\": \"add\",\n",
    "                        \"content\": {\n",
    "                            \"action_no\": 1,\n",
    "                            \"material\": {\n",
    "                                \"SMARTS\": \"[#6](=[#8])-[#8]\", # SMARTS pattern for carboxylic acid\n",
    "                                \"SMILES\": None,\n",
    "                                \"quantity\": {\"value\": 1.0, \"unit\": \"moleq\"},\n",
    "                                \"solvent\": \"DMA\",\n",
    "                                \"concentration\": 0.5,\n",
    "                            },\n",
    "                        },\n",
    "                    },\n",
    "                    {\n",
    "                        \"name\": \"add\",\n",
    "                        \"content\": {\n",
    "                            \"action_no\": 2,\n",
    "                            \"material\": {\n",
    "                                \"SMARTS\": None,\n",
    "                                \"SMILES\": \"CCCP1(=O)OP(=O)(OP(=O)(O1)CCC)CCC\", #SMILES pattern for T3P\n",
    "                                \"quantity\": {\"value\": 1.2, \"unit\": \"moleq\"},\n",
    "                                \"solvent\": \"DMA\",\n",
    "                                \"concentration\": 0.5,\n",
    "                            },\n",
    "                        },\n",
    "                    },\n",
    "                    {\n",
    "                        \"name\": \"add\",\n",
    "                        \"content\": {\n",
    "                            \"action_no\": 3,\n",
    "                            \"material\": {\n",
    "                                \"SMARTS\": None,\n",
    "                                \"SMILES\": \"CCN(C(C)C)C(C)C\", #SMILES pattern for amine base\n",
    "                                \"quantity\": {\"value\": 3.5, \"unit\": \"moleq\"},\n",
    "                                \"solvent\": None,\n",
    "                                \"density\": 0.74,\n",
    "                                \"concentration\": None,\n",
    "                            },\n",
    "                        },\n",
    "                    },\n",
    "                    {\n",
    "                        \"name\": \"add\",\n",
    "                        \"content\": {\n",
    "                            \"action_no\": 4,\n",
    "                            \"material\": {\n",
    "                                \"SMARTS\": \"[#7;H3,H2,H1]\", #SMARTS pattern for amine\n",
    "                                \"SMILES\": None,\n",
    "                                \"quantity\": {\"value\": 1.1, \"unit\": \"moleq\"},\n",
    "                                \"solvent\": \"DMA\",\n",
    "                                \"concentration\": 0.5,\n",
    "                            },\n",
    "                        },\n",
    "                    },\n",
    "                    {\n",
    "                        \"name\": \"stir\",\n",
    "                        \"content\": {\n",
    "                            \"action_no\": 5,\n",
    "                            \"temperature\": {\"value\": 25, \"unit\": \"degC\"},\n",
    "                            \"duration\": {\"value\": 12, \"unit\": \"hours\"},\n",
    "                        },\n",
    "                    },\n",
    "                ],\n",
    "            },\n",
    "        },\n",
    "    },\n",
    "}"
   ]
  },
  {
   "cell_type": "markdown",
   "metadata": {},
   "source": [
    "<font size=\"3\">\n",
    "You have so far seen SMILES as a way to represent a molecule as a machine readable format, but what about executing reactions? This is where SMARTS come into play where patterns can be set as SMARTS and rules encoded for a reaction. Let's look at the amidation SMARTS pattern and how it can be used.\n",
    "</font>"
   ]
  },
  {
   "cell_type": "code",
   "execution_count": 73,
   "metadata": {},
   "outputs": [
    {
     "name": "stdout",
     "output_type": "stream",
     "text": [
      "The reaction SMARTS pattern is: [#6:1](=[#8:2])-[#8].[#7;H3,H2,H1:3]>>[#6:1](=[#8:2])-[#7:3]\n"
     ]
    }
   ],
   "source": [
    "# Get the amidation reaction SMARTS pattern from the encoded recipe\n",
    "reaction_smarts = encoded_recipes[\"Amidation\"][\"reactionSMARTS\"]\n",
    "print(\"The reaction SMARTS pattern is: {}\".format(reaction_smarts))"
   ]
  },
  {
   "cell_type": "markdown",
   "metadata": {},
   "source": [
    "<font size=\"3\">\n",
    "Reading from left, the reactant SMARTS are seperated by a '.' and the SMARTS pattern is broken up into a reactants and product section seperated by the '>>'.  \n",
    "</font>"
   ]
  },
  {
   "cell_type": "code",
   "execution_count": 74,
   "metadata": {},
   "outputs": [
    {
     "name": "stdout",
     "output_type": "stream",
     "text": [
      "The two reactant SMARTS patterns are: [#6:1](=[#8:2])-[#8] and [#7;H3,H2,H1:3]\n",
      "The product SMARTS pattern is: [#6:1](=[#8:2])-[#7:3]\n"
     ]
    }
   ],
   "source": [
    "reactant_smarts = reaction_smarts.split(\">>\")[0]\n",
    "product_smarts = reaction_smarts.split(\">>\")[1]\n",
    "print(\"The two reactant SMARTS patterns are: {} and {}\".format(reactant_smarts.split(\".\")[0],\n",
    "                                                               reactant_smarts.split(\".\")[1]))\n",
    "print(\"The product SMARTS pattern is: {}\".format(product_smarts))"
   ]
  },
  {
   "cell_type": "markdown",
   "metadata": {},
   "source": [
    "<font size=\"3\">\n",
    "Looking at the reactant SMARTS patterns, notice how the the \"#number\" are enclosed in brackets. Each number is the atomic number of an element. So \"#6\" -> Carbon with the \":\"followed by the number 1 (Can be any number) used as a way to label/index that carbon atom. This way, the connections can be mapped based on the labellling and atomic numbers/types of elements. Bonds are indicated by \"=\" and \"-\". For more on SMARTS patterns see -> https://www.daylight.com/dayhtml/doc/theory/theory.smarts.html  \n",
    "</font>"
   ]
  },
  {
   "cell_type": "markdown",
   "metadata": {},
   "source": [
    "## 3.1: Getting our molecules in a row\n",
    "<br>\n",
    "<font size=\"3\">\n",
    "Now that we have the amidation SMARTS pattern, we can use it to assign the correct order we need for our encoded recipe to work by \"reacting\" the two reactant SMILES using the reaction SMARTS until the product matches our product. Have a look at the two functions below. canonSmiles makes sure that our SMILES are normalised or canonicalized. getAddtionOrder finds the correct addition order of your starting materials based on pattern matching with the reaction SMARTS pattern. NB The order of reactant SMARTS patterns are important and taken as the order in which reactants need to be virtually \"reacted\" to yield a product.   \n",
    "</font>"
   ]
  },
  {
   "cell_type": "code",
   "execution_count": 75,
   "metadata": {},
   "outputs": [],
   "source": [
    "from rdkit.Chem import AllChem\n",
    "import itertools\n",
    "\n",
    "def canonSmiles(smiles: str):\n",
    "    \"\"\"\n",
    "    Canonicalise smiles\n",
    "    \n",
    "    Args:\n",
    "        smiles (str): SMILES to canonicalise\n",
    "\n",
    "    Returns:\n",
    "        canon_smiles (str): Canonicalised SMILES \n",
    "    \"\"\"\n",
    "    canon_smiles = Chem.MolToSmiles(Chem.MolFromSmiles(smiles))\n",
    "    return canon_smiles\n",
    "\n",
    "def getAddtionOrder(product_smi: str, reactant_SMILES: list, reaction_SMARTS: str):\n",
    "    \"\"\"\n",
    "    Gets reactant pair addition order from reaction_smarts\n",
    "\n",
    "    Args:\n",
    "        product_smi (str): product SMILES\n",
    "        reactant_SMILES_pair (list): List of reactant smiles\n",
    "        reaction_SMARTS (str): reaction SMARTS pattern\n",
    "\n",
    "    Returns:\n",
    "        reactant_SMILES_pair (list): List of reactant smiles in correct order\n",
    "        None: If no match is found between the reactants and the reaction smarts\n",
    "    \"\"\"\n",
    "    product_smi = canonSmiles(smiles=product_smi)\n",
    "    reactant_SMILES = [canonSmiles(smiles=smi) for smi in reactant_SMILES]\n",
    "    \n",
    "    rxn = AllChem.ReactionFromSmarts(reaction_SMARTS)\n",
    "    reactant_mols = [Chem.MolFromSmiles(smi) for smi in reactant_SMILES]\n",
    "\n",
    "    for reactant_permutation in list(itertools.permutations(reactant_mols)):\n",
    "        try:\n",
    "            products = rxn.RunReactants(reactant_permutation)\n",
    "            product_mols = [product[0] for product in products]\n",
    "            if not product_mols:\n",
    "                continue  # reactants were in wrong order so no product\n",
    "        except Exception as e:\n",
    "            print(e)\n",
    "            print(reactant_permutation)\n",
    "            continue\n",
    "        product_smis = [Chem.MolToSmiles(m) for m in product_mols if m is not None]\n",
    "        if product_smi in product_smis:\n",
    "            ordered_smis = [Chem.MolToSmiles(m) for m in reactant_permutation]\n",
    "    if \"ordered_smis\" in locals():\n",
    "        return ordered_smis\n",
    "    else:\n",
    "        print(reaction_SMARTS)\n",
    "        print(reactant_SMILES)\n",
    "        return None"
   ]
  },
  {
   "cell_type": "markdown",
   "metadata": {},
   "source": [
    "<font size=\"3\">\n",
    "After calling the SMILES addtion ordering function (getAddtionOrder) below, you should have two SMILES in a list re-ordered/checked that they follow the addtion order required in the reaction SMARTS pattern and the addition order indcated in the enocoded recipe. The carboxylic acid reactant should be added first (Add action number 1) followed by the amine reactant(Add action number 4). This exactly what we need as before the amine is added, the carboxylic acid needs to be activated, make the OH a better leaving group, with the addition of the activator 1-Propanephosphonic anhydride solution (T3P) and the amine base.    \n",
    "</font>"
   ]
  },
  {
   "cell_type": "code",
   "execution_count": 76,
   "metadata": {},
   "outputs": [
    {
     "data": {
      "text/plain": [
       "['O=C(O)Cc1cccc(Cl)c1', 'Cc1ccncc1N']"
      ]
     },
     "execution_count": 76,
     "metadata": {},
     "output_type": "execute_result"
    }
   ],
   "source": [
    "# Call the function with your product and reactant SMILES\n",
    "ordered_smiles = getAddtionOrder(product_smi = product_smiles, \n",
    "                                 reactant_SMILES = reactant_smiles, \n",
    "                                 reaction_SMARTS = reaction_smarts)\n",
    "ordered_smiles"
   ]
  },
  {
   "cell_type": "markdown",
   "metadata": {},
   "source": [
    "## Part 3.2: Calculating amounts needed for synthesis \n",
    "<br>\n",
    "<font size=\"3\">\n",
    "With the addition order sorted, you now need to calculate the amounts required for the amidation reaction. Looking at the \"add\" actions in the encoded recipe for the Amidation reaction, notice the key-value pair for \"quantity\". This is where you will get the mol equivalents for the synthesis. Also notice the other key-values of \"solvent\" and \"concentration\", as we will be using a liquid handling robot, you need to prepare solutions. To help with the calculations, have a look at the functions in the followig code block.\n",
    "<font>"
   ]
  },
  {
   "cell_type": "code",
   "execution_count": 77,
   "metadata": {},
   "outputs": [],
   "source": [
    "from rdkit.Chem.Descriptors import ExactMolWt\n",
    "\n",
    "def getMW(smiles):\n",
    "    mol = Chem.MolFromSmiles(smiles)\n",
    "    MW = ExactMolWt(mol)\n",
    "    return MW\n",
    "\n",
    "def getMols(mass,MW):\n",
    "    mols = (mass / 1000) / MW\n",
    "    return mols\n",
    "\n",
    "def calculateVolume(molar_eqv, target_mols, concentration=None, density=None, MW=None):\n",
    "    mol_material = molar_eqv * target_mols\n",
    "    if density:\n",
    "        vol_material = ((mol_material * MW) / density) * 1e3\n",
    "    else:\n",
    "        vol_material = (mol_material / concentration) * 1e6  # in uL\n",
    "    return vol_material"
   ]
  },
  {
   "cell_type": "markdown",
   "metadata": {},
   "source": [
    "<font size=\"3\">\n",
    "Before calculating the reactant and reagent amounts, you need to calculate how much product in mols, you'd like to synthesise. \n",
    "<font>"
   ]
  },
  {
   "cell_type": "code",
   "execution_count": 78,
   "metadata": {},
   "outputs": [
    {
     "data": {
      "text/plain": [
       "3.8450943641794715e-05"
      ]
     },
     "execution_count": 78,
     "metadata": {},
     "output_type": "execute_result"
    }
   ],
   "source": [
    "# You can play with different target_masses to see the impact on the starting material volumes required.\n",
    "target_mass_mg = 10\n",
    "target_MW = getMW(smiles=product_smiles)\n",
    "target_mols = getMols(mass=target_mass_mg, MW = target_MW)\n",
    "target_mols"
   ]
  },
  {
   "cell_type": "markdown",
   "metadata": {},
   "source": [
    "<font size=\"3\">\n",
    "Run the code block to see what robotic actions you will need to execute for your amidation reaction\n",
    "<font>"
   ]
  },
  {
   "cell_type": "code",
   "execution_count": 79,
   "metadata": {},
   "outputs": [
    {
     "data": {
      "text/plain": [
       "[{'name': 'add',\n",
       "  'content': {'action_no': 1,\n",
       "   'material': {'SMARTS': '[#6](=[#8])-[#8]',\n",
       "    'SMILES': None,\n",
       "    'quantity': {'value': 1.0, 'unit': 'moleq'},\n",
       "    'solvent': 'DMA',\n",
       "    'concentration': 0.5}}},\n",
       " {'name': 'add',\n",
       "  'content': {'action_no': 2,\n",
       "   'material': {'SMARTS': None,\n",
       "    'SMILES': 'CCCP1(=O)OP(=O)(OP(=O)(O1)CCC)CCC',\n",
       "    'quantity': {'value': 1.2, 'unit': 'moleq'},\n",
       "    'solvent': 'DMA',\n",
       "    'concentration': 0.5}}},\n",
       " {'name': 'add',\n",
       "  'content': {'action_no': 3,\n",
       "   'material': {'SMARTS': None,\n",
       "    'SMILES': 'CCN(C(C)C)C(C)C',\n",
       "    'quantity': {'value': 3.5, 'unit': 'moleq'},\n",
       "    'solvent': None,\n",
       "    'density': 0.74,\n",
       "    'concentration': None}}},\n",
       " {'name': 'add',\n",
       "  'content': {'action_no': 4,\n",
       "   'material': {'SMARTS': '[#7;H3,H2,H1]',\n",
       "    'SMILES': None,\n",
       "    'quantity': {'value': 1.1, 'unit': 'moleq'},\n",
       "    'solvent': 'DMA',\n",
       "    'concentration': 0.5}}},\n",
       " {'name': 'stir',\n",
       "  'content': {'action_no': 5,\n",
       "   'temperature': {'value': 25, 'unit': 'degC'},\n",
       "   'duration': {'value': 12, 'unit': 'hours'}}}]"
      ]
     },
     "execution_count": 79,
     "metadata": {},
     "output_type": "execute_result"
    }
   ],
   "source": [
    "robotic_actions = encoded_recipes[\"Amidation\"][\"recipes\"][\"Standard\"][\"actions\"] \n",
    "robotic_actions"
   ]
  },
  {
   "cell_type": "markdown",
   "metadata": {},
   "source": [
    "<font size=\"3\">\n",
    "In the next code block, the volumes for the reactants (carboxylic acid and amine) and reagents (amine base and T3P) will be calculated based on the target mass of the product required and the molar equivalents from the \"add\" actions in the encoded recipe.   \n",
    "</font>"
   ]
  },
  {
   "cell_type": "code",
   "execution_count": 80,
   "metadata": {},
   "outputs": [
    {
     "data": {
      "text/plain": [
       "{'Volume to add for add action no: 1': 76.90188728358943,\n",
       " 'Volume to add for add action no: 2': 92.28226474030731,\n",
       " 'Volume (ul) to add for add action no: 3': 23.487869268861303,\n",
       " 'Volume to add for add action no: 4': 84.59207601194838}"
      ]
     },
     "execution_count": 80,
     "metadata": {},
     "output_type": "execute_result"
    }
   ],
   "source": [
    "volume_info = {}\n",
    "for action in robotic_actions:\n",
    "    if action[\"name\"] == \"add\":\n",
    "        \n",
    "        molar_eqv = action[\"content\"][\"material\"][\"quantity\"][\"value\"]\n",
    "        solvent = action[\"content\"][\"material\"][\"solvent\"]\n",
    "        action_no = action[\"content\"][\"action_no\"]\n",
    "        \n",
    "        if solvent:\n",
    "            concentration = action[\"content\"][\"material\"][\"concentration\"]\n",
    "            \n",
    "            volume = calculateVolume(molar_eqv=molar_eqv, \n",
    "                                     target_mols=target_mols, \n",
    "                                     concentration=concentration)\n",
    "            volume_info[\"Volume to add for add action no: {}\".format(action_no)] = volume\n",
    "        if not solvent:\n",
    "            reactant_density = action[\"content\"][\"material\"][\"density\"]\n",
    "            reactant_SMILES = action[\"content\"][\"material\"][\"SMILES\"]\n",
    "            reactant_MW = getMW(smiles = reactant_SMILES)\n",
    "            volume = calculateVolume(molar_eqv=molar_eqv,\n",
    "                                                   target_mols=target_mols,\n",
    "                                                   density=reactant_density, \n",
    "                                                   MW=reactant_MW)\n",
    "            volume_info[\"Volume (ul) to add for add action no: {}\".format(action_no)] = volume\n",
    "\n",
    "volume_info"
   ]
  },
  {
   "cell_type": "markdown",
   "metadata": {},
   "source": [
    " ## Part 4: Performing a robotic synthesis on the OpenTrons \n",
    "---\n",
    "\n",
    "<font size=\"3\">\n",
    "In this section, you will use the calculated volumes to execute the synthesis of your designed compound on an OpneTrons robot. You will use the OpenTrons Python API to transfer the reactant and reagent volumes into a well on a 96 array well plate. You can think of each well as a reactor. The OpenTrons deck's setup is shown in Fig. 5 along with the location of the reactants, labware names/position and the colors used in the demo. \n",
    "    \n",
    "<img src=\"../img/OT-deck.png\">\n",
    "<strong><em>Fig. 5 - Labware, trough and reaction plate setup on OpenTrons deck</em></strong>\n",
    "</font>"
   ]
  },
  {
   "cell_type": "markdown",
   "metadata": {},
   "source": [
    "<font size=\"3\">\n",
    "In the next code block, you will simulate your synthesis on an OpneTrons! Please note that the code will not ru until you have edited in the deck index postions. You will also get to add some OpenTrons Python API commands to complete the synthesis of your design.  \n",
    "<font>"
   ]
  },
  {
   "cell_type": "code",
   "execution_count": 64,
   "metadata": {},
   "outputs": [
    {
     "name": "stderr",
     "output_type": "stream",
     "text": [
      "/home/warren/.opentrons/robot_settings.json not found. Loading defaults\n",
      "/home/warren/.opentrons/deck_calibration.json not found. Loading defaults\n"
     ]
    },
    {
     "data": {
      "text/plain": [
       "<InstrumentContext: p300_single_v1 in RIGHT>"
      ]
     },
     "execution_count": 64,
     "metadata": {},
     "output_type": "execute_result"
    }
   ],
   "source": [
    "from opentrons import simulate\n",
    "protocol = simulate.get_protocol_api('2.11')\n",
    "\n",
    "# Load tipracks and assign a rack position - you will need to insert the correct well plate index!\n",
    "tiprack_deck_index = \"XX\"\n",
    "tiprack_1 = protocol.load_labware('opentrons_96_tiprack_300ul', tiprack_deck_index)\n",
    "\n",
    "# Load a p300 single channel pipette\n",
    "p300 = protocol.load_instrument('p300_single', 'right', tip_racks=[tiprack_1])\n",
    "\n",
    "# Load the labware and assign the deck indices\n",
    "reactant_vials_deck_index = \"XX\"\n",
    "reactant_plate_deck_index = \"XX\"\n",
    "reactant_vials = protocol.load_labware('opentrons_24_tuberack_eppendorf_1.5ml_safelock_snapcap', \n",
    "                                        reactant_vials_deck_index)\n",
    "reaction_plate = protocol.load_labware('corning_96_wellplate_360ul_flat', reactant_plate_deck_index)\n",
    " \n",
    "# The first addition is shown for the add action one\n",
    "volume_to_add = volume_info['Volume to add for add action no: 1']\n",
    "p300.transfer(volume_to_add, reactant_vials['A1'].bottom(2), reaction_plate['B2'].top(-5), air_gap = 15)\n",
    "\n",
    "# Add in the commmands to complete the four add actions"
   ]
  },
  {
   "cell_type": "markdown",
   "metadata": {},
   "source": [
    "## Recap\n",
    "<br>\n",
    "<font size=\"3\">\n",
    "Well done for following the design and simulated automated synthesis to the end! In this exercise, we completed the synthesis of one compound, and you will have a better idea of the considerations required for executing automated synthesis. Now imagine, we want to execute 100s - 1000s of different chemical reactions on a single session on the OpenTrons! Some design and smarter ways are needed as trying to track and code this will become a nightmare very quickly. In the next bit of this session, you will be shown how XChem is approaching this with CAR (Chemist Assisted Robotics) and all going well, a live demo on the robot.   \n",
    "<font>"
   ]
  }
 ],
 "metadata": {
  "kernelspec": {
   "display_name": "Python 3 (ipykernel)",
   "language": "python",
   "name": "python3"
  },
  "language_info": {
   "codemirror_mode": {
    "name": "ipython",
    "version": 3
   },
   "file_extension": ".py",
   "mimetype": "text/x-python",
   "name": "python",
   "nbconvert_exporter": "python",
   "pygments_lexer": "ipython3",
   "version": "3.8.12"
  }
 },
 "nbformat": 4,
 "nbformat_minor": 4
}
