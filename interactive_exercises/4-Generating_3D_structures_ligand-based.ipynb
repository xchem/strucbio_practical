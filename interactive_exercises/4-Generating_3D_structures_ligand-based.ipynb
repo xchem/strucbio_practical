{
 "cells": [
  {
   "cell_type": "markdown",
   "metadata": {},
   "source": [
    "# Generating 3D structures using ligand-based methods\n",
    "----\n",
    "<font size=\"3\">\n",
    "    \n",
    "So far, we have worked on 2D molecules (as SMILES), but if we want to better understand our candidates and select the most promising ones, we need to generate 3D conformations for those SMILES.\n",
    "<br><br>\n",
    "There are many approaches for generating 3D conformations from the SMILES (e.g. constrained docking algorithms). In this notebook we will compute them using a ligand-based alignment and scoring routine. We assume that elaborations to the initial hit will not introduce massive changes to the binding mode, and that interactions seen in the initial hit protein-ligand complex will be conserved.\n",
    "    \n",
    "By default, 100 conformations of the new molecule will be calculated using the rdkit ETKDG conformation generation algorithm (Riniker & Landrum, 2015). These conformations will be then aligned to the reference hit molecule using Open3DAlign (O3A) (Tosco et al., 2011) also implemented in rdkit. In order to select which aligned conformation of the new molecule best fits with the reference molecule, we will use the SuCOS metric (Leung et al., 2019)). The SuCOS metric uses rdkit functions to calculate both the shape overlap and the chemical feature overlap between the elaborated molecule and the original fragment.\n",
    "    \n",
    "An implementation of this pipeline is shown in the next cell, where the main function is ``gen_conf_from_vector(input_mol_block, elaborated_smiles)`` where ``input_mol_block`` is the mol block from the reference structure, and ``elaborated_smiles`` is the smiles string of the molecule you want to calculate a predicted structure for.\n",
    "\n",
    "</font>\n",
    "\n",
    "----\n",
    "Refs:\n",
    "\n",
    "- Riniker, S. & Landrum, G. A. (2015). Journal of Chemical Information and Modeling. 55, 2562–2574.\n",
    "- Tosco, P., Balle, T. & Shiri, F. (2011). Journal of Computer-Aided Molecular Design. 25, 777–783\n",
    "- Leung, S., Bodkin, M., von Delft, F., Brennan, P. & Morris, G. (2019) https://doi.org/10.26434/chemrxiv.8100203.v1."
   ]
  },
  {
   "cell_type": "code",
   "execution_count": 1,
   "metadata": {},
   "outputs": [],
   "source": [
    "import os\n",
    "import numpy as np\n",
    "from rdkit import Chem\n",
    "from rdkit.Chem import AllChem, rdShapeHelpers\n",
    "from rdkit.Chem.FeatMaps import FeatMaps\n",
    "from rdkit import RDConfig\n",
    "\n",
    "########################################################################################\n",
    "#\n",
    "#  SuCOS Implementation\n",
    "#\n",
    "########################################################################################\n",
    "\n",
    "fdef = AllChem.BuildFeatureFactory(os.path.join(RDConfig.RDDataDir, 'BaseFeatures.fdef'))\n",
    "\n",
    "fmParams = {}\n",
    "for k in fdef.GetFeatureFamilies():\n",
    "    fparams = FeatMaps.FeatMapParams()\n",
    "    fmParams[k] = fparams\n",
    "\n",
    "keep = ('Donor', 'Acceptor', 'NegIonizable', 'PosIonizable', 'ZnBinder',\n",
    "        'Aromatic', 'Hydrophobe', 'LumpedHydrophobe')\n",
    "\n",
    "\n",
    "def get_FeatureMapScore(small_m, large_m, score_mode=FeatMaps.FeatMapScoreMode.Best):\n",
    "    featLists = []\n",
    "    for m in [small_m, large_m]:\n",
    "        rawFeats = fdef.GetFeaturesForMol(m)\n",
    "        # filter that list down to only include the ones we're intereted in\n",
    "        featLists.append([f for f in rawFeats if f.GetFamily() in keep])\n",
    "    fms = [FeatMaps.FeatMap(feats=x, weights=[1] * len(x), params=fmParams) for x in featLists]\n",
    "    fms[0].scoreMode = score_mode\n",
    "    fm_score = fms[0].ScoreFeats(featLists[1]) / min(fms[0].GetNumFeatures(), len(featLists[1]))\n",
    "    return fm_score\n",
    "\n",
    "\n",
    "def score(reflig, prb_mols, ids, score_mode=FeatMaps.FeatMapScoreMode.All, p=False):\n",
    "    ref = Chem.AddHs(reflig)\n",
    "    idx = 0\n",
    "\n",
    "    results_sucos = {}\n",
    "    results_tani = {}\n",
    "\n",
    "    smi_mol = Chem.MolToSmiles(prb_mols)\n",
    "\n",
    "    for i in ids:\n",
    "\n",
    "        prb = Chem.AddHs(Chem.MolFromMolBlock(Chem.MolToMolBlock(prb_mols, confId=i)))\n",
    "\n",
    "        fm_score = get_FeatureMapScore(ref, prb, score_mode)\n",
    "        fm_score = np.clip(fm_score, 0, 1)\n",
    "\n",
    "        protrude_dist = rdShapeHelpers.ShapeProtrudeDist(ref, prb,\n",
    "                                                         allowReordering=False)\n",
    "        protrude_dist = np.clip(protrude_dist, 0, 1)\n",
    "\n",
    "        SuCOS_score = 0.5 * fm_score + 0.5 * (1 - protrude_dist)\n",
    "        tanimoto_score = Chem.rdShapeHelpers.ShapeTanimotoDist(ref, prb)\n",
    "\n",
    "        results_sucos[str(idx)] = SuCOS_score\n",
    "        results_tani[str(idx)] = tanimoto_score\n",
    "\n",
    "        if p:\n",
    "            print(\"********************************\")\n",
    "            print(\"index: \" + str(idx))\n",
    "            print(\"SuCOS score:\\t%f\" % SuCOS_score)\n",
    "            print(\"Tani score:\\t%f\" % tanimoto_score)\n",
    "            print(\"********************************\")\n",
    "\n",
    "        idx += 1\n",
    "\n",
    "    return results_sucos\n",
    "\n",
    "\n",
    "########################################################################################\n",
    "#\n",
    "#  Alignment & scoring implementation\n",
    "#\n",
    "########################################################################################\n",
    "\n",
    "def get_best_align(hit_mblock, elab_smiles):\n",
    "    hit_mol = Chem.MolFromMolBlock(hit_mblock)\n",
    "    elab_mol = Chem.MolFromSmiles(elab_smiles)\n",
    "    ids = AllChem.EmbedMultipleConfs(elab_mol, numConfs=100, params=AllChem.ETKDG())\n",
    "\n",
    "    for cid in ids:\n",
    "        o3d = Chem.rdMolAlign.GetO3A(prbMol=elab_mol, refMol=hit_mol, prbCid=cid)\n",
    "        o3d.Align()\n",
    "\n",
    "    results_sucos = score(hit_mol, elab_mol, ids)\n",
    "    best_i = list(results_sucos.values()).index(max(results_sucos.values()))\n",
    "    elab_molblock = Chem.MolToMolBlock(elab_mol, confId=best_i)\n",
    "\n",
    "    return elab_molblock\n",
    "\n",
    "\n",
    "def gen_conf_from_vector(input_mol_block, elaborated_smiles):\n",
    "    # Get the mol\n",
    "    m = get_best_align(input_mol_block, elaborated_smiles)\n",
    "    return m"
   ]
  },
  {
   "cell_type": "markdown",
   "metadata": {},
   "source": [
    "## Exercise\n",
    "----\n",
    "1. Use the ``gen_conf_from_vector`` function to generate a 3D conformation for each of the molecules you calculated in the Fragment Network exercise (2nd).\n",
    "2. Save these out to a new sdf file\n",
    "3. Generate a new sdf file combining the results from this exercise and the merging exercise."
   ]
  },
  {
   "cell_type": "code",
   "execution_count": 2,
   "metadata": {},
   "outputs": [],
   "source": [
    "# write your code here"
   ]
  },
  {
   "cell_type": "markdown",
   "metadata": {
    "pycharm": {
     "name": "#%% md\n"
    }
   },
   "source": [
    "## Constrained embedding\n",
    "\n",
    "The above code generates random conformers and then scores them according to their overlap with the fragments. However, a smarter approach is to apply constraints to generate conformations that reflect the binding pose of the original fragments.\n",
    "\n",
    "RDKit has a function for constrained embedding, which generates conformations where the positions of certain atoms can be constrained according to their coordinates in a reference molecule. You can read more about this function in the following blogpost: http://rdkit.blogspot.com/2013/12/using-allchemconstrainedembed.html."
   ]
  },
  {
   "cell_type": "markdown",
   "source": [
    "## Exercise\n",
    "----\n",
    "For this exercise, we will use constrained embedding to generate conformers for elaborations of fragment x2646_0A. Some elaborations have already been generated and can be found in the sdf file ``mergers/x2646_elaborations.sdf``. The mol file for the original fragment containing the 3D coordinates can be found in ``mergers/Mpro-x2646_0A.mol``.\n",
    "\n",
    "The code below embeds a set of molecules using coordinates from a reference fragment. It does this by calculating the maximum common substructure between the molecule to embed and the fragment, and then uses the coordinates of these atoms to constrain conformer generation for the molecule."
   ],
   "metadata": {
    "collapsed": false,
    "pycharm": {
     "name": "#%% md\n"
    }
   }
  },
  {
   "cell_type": "code",
   "execution_count": 22,
   "outputs": [],
   "source": [
    "from rdkit.Chem import AllChem\n",
    "from rdkit.Chem import rdFMCS\n",
    "\n",
    "def add_coordinates(fragment, substructure):\n",
    "    \"\"\"\n",
    "    Function to add 3D coordinates to a substructure (e.g. MCS) from the corresponding\n",
    "    atoms from the original fragment.\n",
    "    \"\"\"\n",
    "    ref_match = fragment.GetSubstructMatch(substructure)\n",
    "    rwmol = Chem.RWMol(substructure)\n",
    "    rwconf = Chem.Conformer(rwmol.GetNumAtoms())  # create a conformer of the substructure\n",
    "    matches = rwmol.GetSubstructMatch(substructure)  # get matches so atoms in the same order\n",
    "    ref_conf = fragment.GetConformer()  # get the conformation of the actual fragment\n",
    "    for i, match in enumerate(matches):  # set atom position using matching atom from fragment\n",
    "        rwconf.SetAtomPosition(match, ref_conf.GetAtomPosition(ref_match[i]))\n",
    "    rwmol.AddConformer(rwconf)  # add the conformation to the substructure\n",
    "    return rwmol\n",
    "\n",
    "def constrained_embedding(mols, ref_mol):\n",
    "    \"\"\"\n",
    "    Embed elaborated molecules while constraining the positions of atoms from the original fragments using their\n",
    "    3D coordinates.\n",
    "    \"\"\"\n",
    "    embedded_mols = []\n",
    "\n",
    "    for mol in mols:\n",
    "        _ = AllChem.Compute2DCoords(mol)\n",
    "\n",
    "        # calculates maximum common substructure (MCS) between the fragment and the elaborated compound\n",
    "        mcs = rdFMCS.FindMCS([mol, ref_mol])\n",
    "        mcs_mol = Chem.MolFromSmarts(mcs.smartsString)\n",
    "\n",
    "        # add coordinates to the MCS\n",
    "        core = add_coordinates(ref_mol, mcs_mol)\n",
    "\n",
    "        nm = Chem.Mol(mol)\n",
    "        nm = Chem.AddHs(nm)\n",
    "        try:\n",
    "            # perform constrained embedding (may fail for some molecules)\n",
    "            embedded = AllChem.ConstrainedEmbed(nm, core)\n",
    "            AllChem.UFFOptimizeMolecule(embedded)\n",
    "            embedded = Chem.RemoveHs(embedded)\n",
    "            embedded_mols.append(embedded)\n",
    "        except:\n",
    "            pass\n",
    "\n",
    "    return embedded_mols"
   ],
   "metadata": {
    "collapsed": false,
    "pycharm": {
     "name": "#%%\n"
    }
   }
  },
  {
   "cell_type": "markdown",
   "source": [
    "1. Load the elaborated molecules and the original fragment x2646_0A from the sdf and mol files and perform constrained embedding using the function above.\n",
    "2. Write the embedded molecules to a new sdf file and try visualising them in PyMOL together with the protein-ligand structure. Do they overlap well with the original fragment?\n",
    "  - **OPTIONAL**: Try using the function below to score the molecules using the SuCOS score and ordering them according to how well they overlap with the fragment."
   ],
   "metadata": {
    "collapsed": false,
    "pycharm": {
     "name": "#%% md\n"
    }
   }
  },
  {
   "cell_type": "code",
   "execution_count": 40,
   "outputs": [],
   "source": [
    "def sucos_score(reflig, prb_mols, score_mode=FeatMaps.FeatMapScoreMode.All):\n",
    "    ref = Chem.AddHs(reflig)\n",
    "    prb = Chem.AddHs(Chem.MolFromMolBlock(Chem.MolToMolBlock(prb_mols)))\n",
    "    fm_score = get_FeatureMapScore(ref, prb, score_mode)\n",
    "    fm_score = np.clip(fm_score, 0, 1)\n",
    "    protrude_dist = rdShapeHelpers.ShapeProtrudeDist(ref, prb,\n",
    "                                                     allowReordering=False)\n",
    "    protrude_dist = np.clip(protrude_dist, 0, 1)\n",
    "    SuCOS_score = 0.5 * fm_score + 0.5 * (1 - protrude_dist)\n",
    "\n",
    "    return SuCOS_score"
   ],
   "metadata": {
    "collapsed": false,
    "pycharm": {
     "name": "#%%\n"
    }
   }
  },
  {
   "cell_type": "code",
   "execution_count": null,
   "outputs": [],
   "source": [
    "# write your code here\n"
   ],
   "metadata": {
    "collapsed": false,
    "pycharm": {
     "name": "#%%\n"
    }
   }
  }
 ],
 "metadata": {
  "kernelspec": {
   "display_name": "Python 3 (ipykernel)",
   "language": "python",
   "name": "python3"
  },
  "language_info": {
   "codemirror_mode": {
    "name": "ipython",
    "version": 3
   },
   "file_extension": ".py",
   "mimetype": "text/x-python",
   "name": "python",
   "nbconvert_exporter": "python",
   "pygments_lexer": "ipython3",
   "version": "3.8.12"
  }
 },
 "nbformat": 4,
 "nbformat_minor": 4
}